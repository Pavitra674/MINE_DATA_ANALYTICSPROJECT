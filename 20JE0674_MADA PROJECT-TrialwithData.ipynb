{
 "cells": [
  {
   "cell_type": "markdown",
   "id": "136dd3d4",
   "metadata": {},
   "source": [
    "# Historical Coal Production Data: 2021"
   ]
  },
  {
   "cell_type": "markdown",
   "id": "279c5428",
   "metadata": {},
   "source": [
    "# Source: The U.S. Energy Information Administration (EIA) and the U.S. Mine Safety and Health Administration"
   ]
  },
  {
   "cell_type": "markdown",
   "id": "7ba88e00",
   "metadata": {},
   "source": [
    "## Importing Necessary Libraries"
   ]
  },
  {
   "cell_type": "code",
   "execution_count": 22,
   "id": "1dae35e1",
   "metadata": {},
   "outputs": [],
   "source": [
    "import pandas as pd\n",
    "import numpy as np\n",
    "import matplotlib.pyplot as plt\n",
    "import seaborn as sns\n",
    "from sklearn.model_selection import train_test_split\n",
    "from sklearn.preprocessing import StandardScaler, PolynomialFeatures\n",
    "from sklearn.svm import SVC\n",
    "from sklearn.metrics import classification_report, confusion_matrix\n",
    "from sklearn.metrics import mean_squared_error, r2_score"
   ]
  },
  {
   "cell_type": "code",
   "execution_count": 23,
   "id": "1aa70f49",
   "metadata": {},
   "outputs": [],
   "source": [
    "from sklearn.model_selection import train_test_split\n",
    "from sklearn.linear_model import LinearRegression\n",
    "from sklearn.metrics import r2_score"
   ]
  },
  {
   "cell_type": "code",
   "execution_count": 24,
   "id": "6d0cc0c2",
   "metadata": {},
   "outputs": [],
   "source": [
    "import warnings\n",
    "warnings.filterwarnings(\"ignore\")"
   ]
  },
  {
   "cell_type": "markdown",
   "id": "1b431744",
   "metadata": {},
   "source": [
    "## Data Import"
   ]
  },
  {
   "cell_type": "code",
   "execution_count": 25,
   "id": "ab1bf611",
   "metadata": {},
   "outputs": [
    {
     "data": {
      "text/html": [
       "<div>\n",
       "<style scoped>\n",
       "    .dataframe tbody tr th:only-of-type {\n",
       "        vertical-align: middle;\n",
       "    }\n",
       "\n",
       "    .dataframe tbody tr th {\n",
       "        vertical-align: top;\n",
       "    }\n",
       "\n",
       "    .dataframe thead th {\n",
       "        text-align: right;\n",
       "    }\n",
       "</style>\n",
       "<table border=\"1\" class=\"dataframe\">\n",
       "  <thead>\n",
       "    <tr style=\"text-align: right;\">\n",
       "      <th></th>\n",
       "      <th>Year</th>\n",
       "      <th>Mine Name</th>\n",
       "      <th>Mine Status</th>\n",
       "      <th>Mine Type</th>\n",
       "      <th>Production (short tons)</th>\n",
       "      <th>Average Employees</th>\n",
       "      <th>Labor Hours</th>\n",
       "    </tr>\n",
       "  </thead>\n",
       "  <tbody>\n",
       "    <tr>\n",
       "      <th>0</th>\n",
       "      <td>2021</td>\n",
       "      <td>Dodge Mine</td>\n",
       "      <td>Active</td>\n",
       "      <td>Surface</td>\n",
       "      <td>0</td>\n",
       "      <td>4</td>\n",
       "      <td>8,183</td>\n",
       "    </tr>\n",
       "    <tr>\n",
       "      <th>1</th>\n",
       "      <td>2021</td>\n",
       "      <td>John Poe Mine</td>\n",
       "      <td>Active</td>\n",
       "      <td>Surface</td>\n",
       "      <td>6,487</td>\n",
       "      <td>2</td>\n",
       "      <td>820</td>\n",
       "    </tr>\n",
       "    <tr>\n",
       "      <th>2</th>\n",
       "      <td>2021</td>\n",
       "      <td>Oak Grove Preparation Plant</td>\n",
       "      <td>Active</td>\n",
       "      <td>Underground</td>\n",
       "      <td>0</td>\n",
       "      <td>53</td>\n",
       "      <td>1,16,182</td>\n",
       "    </tr>\n",
       "    <tr>\n",
       "      <th>3</th>\n",
       "      <td>2021</td>\n",
       "      <td>Flat Top Mine</td>\n",
       "      <td>Active</td>\n",
       "      <td>Surface</td>\n",
       "      <td>2,03,190</td>\n",
       "      <td>42</td>\n",
       "      <td>1,17,312</td>\n",
       "    </tr>\n",
       "    <tr>\n",
       "      <th>4</th>\n",
       "      <td>2021</td>\n",
       "      <td>Oak Grove Mine</td>\n",
       "      <td>Active</td>\n",
       "      <td>Underground</td>\n",
       "      <td>20,20,277</td>\n",
       "      <td>461</td>\n",
       "      <td>11,00,028</td>\n",
       "    </tr>\n",
       "    <tr>\n",
       "      <th>5</th>\n",
       "      <td>2021</td>\n",
       "      <td>No 7 Mine</td>\n",
       "      <td>Active</td>\n",
       "      <td>Underground</td>\n",
       "      <td>47,93,699</td>\n",
       "      <td>514</td>\n",
       "      <td>15,02,426</td>\n",
       "    </tr>\n",
       "    <tr>\n",
       "      <th>6</th>\n",
       "      <td>2021</td>\n",
       "      <td>Pratt No. 1 Mine</td>\n",
       "      <td>Active</td>\n",
       "      <td>Surface</td>\n",
       "      <td>0</td>\n",
       "      <td>10</td>\n",
       "      <td>25,789</td>\n",
       "    </tr>\n",
       "    <tr>\n",
       "      <th>7</th>\n",
       "      <td>2021</td>\n",
       "      <td>Narley Mine</td>\n",
       "      <td>Active</td>\n",
       "      <td>Surface</td>\n",
       "      <td>130</td>\n",
       "      <td>3</td>\n",
       "      <td>2,757</td>\n",
       "    </tr>\n",
       "    <tr>\n",
       "      <th>8</th>\n",
       "      <td>2021</td>\n",
       "      <td>Maxine-Pratt Mine</td>\n",
       "      <td>Active</td>\n",
       "      <td>Underground</td>\n",
       "      <td>96,907</td>\n",
       "      <td>27</td>\n",
       "      <td>53,479</td>\n",
       "    </tr>\n",
       "    <tr>\n",
       "      <th>9</th>\n",
       "      <td>2021</td>\n",
       "      <td>Black Warrior Mine No 1</td>\n",
       "      <td>Active</td>\n",
       "      <td>Surface</td>\n",
       "      <td>1,56,423</td>\n",
       "      <td>50</td>\n",
       "      <td>1,23,270</td>\n",
       "    </tr>\n",
       "  </tbody>\n",
       "</table>\n",
       "</div>"
      ],
      "text/plain": [
       "   Year                    Mine Name Mine Status    Mine Type  \\\n",
       "0  2021                   Dodge Mine      Active      Surface   \n",
       "1  2021                John Poe Mine      Active      Surface   \n",
       "2  2021  Oak Grove Preparation Plant      Active  Underground   \n",
       "3  2021                Flat Top Mine      Active      Surface   \n",
       "4  2021               Oak Grove Mine      Active  Underground   \n",
       "5  2021                    No 7 Mine      Active  Underground   \n",
       "6  2021             Pratt No. 1 Mine      Active      Surface   \n",
       "7  2021                  Narley Mine      Active      Surface   \n",
       "8  2021            Maxine-Pratt Mine      Active  Underground   \n",
       "9  2021      Black Warrior Mine No 1      Active      Surface   \n",
       "\n",
       "  Production (short tons)  Average Employees Labor Hours  \n",
       "0                       0                  4       8,183  \n",
       "1                   6,487                  2         820  \n",
       "2                       0                 53    1,16,182  \n",
       "3                2,03,190                 42    1,17,312  \n",
       "4               20,20,277                461   11,00,028  \n",
       "5               47,93,699                514   15,02,426  \n",
       "6                       0                 10      25,789  \n",
       "7                     130                  3       2,757  \n",
       "8                  96,907                 27      53,479  \n",
       "9                1,56,423                 50    1,23,270  "
      ]
     },
     "execution_count": 25,
     "metadata": {},
     "output_type": "execute_result"
    }
   ],
   "source": [
    "data_coal = pd.read_csv('COAL_UNFILTERED.csv')\n",
    "data_coal.head(10)"
   ]
  },
  {
   "cell_type": "code",
   "execution_count": 26,
   "id": "8b402f8c",
   "metadata": {},
   "outputs": [
    {
     "data": {
      "text/plain": [
       "Year                        int64\n",
       "Mine Name                  object\n",
       "Mine Status                object\n",
       "Mine Type                  object\n",
       "Production (short tons)     int64\n",
       "Average Employees           int64\n",
       "Labor Hours                 int64\n",
       "dtype: object"
      ]
     },
     "execution_count": 26,
     "metadata": {},
     "output_type": "execute_result"
    }
   ],
   "source": [
    "data_coal['Labor Hours'] = data_coal['Labor Hours'].str.replace(',', '')\n",
    "data_coal['Production (short tons)'] = data_coal['Production (short tons)'].str.replace(',', '')\n",
    "data_coal = data_coal.astype({'Labor Hours': 'int64'})\n",
    "data_coal = data_coal.astype({'Production (short tons)': 'int64'})\n",
    "data_coal.dtypes"
   ]
  },
  {
   "cell_type": "code",
   "execution_count": 27,
   "id": "76f7f8b4",
   "metadata": {},
   "outputs": [
    {
     "data": {
      "text/html": [
       "<div>\n",
       "<style scoped>\n",
       "    .dataframe tbody tr th:only-of-type {\n",
       "        vertical-align: middle;\n",
       "    }\n",
       "\n",
       "    .dataframe tbody tr th {\n",
       "        vertical-align: top;\n",
       "    }\n",
       "\n",
       "    .dataframe thead th {\n",
       "        text-align: right;\n",
       "    }\n",
       "</style>\n",
       "<table border=\"1\" class=\"dataframe\">\n",
       "  <thead>\n",
       "    <tr style=\"text-align: right;\">\n",
       "      <th></th>\n",
       "      <th>Year</th>\n",
       "      <th>Mine Status</th>\n",
       "      <th>Mine Type</th>\n",
       "      <th>Production (short tons)</th>\n",
       "      <th>Average Employees</th>\n",
       "      <th>Labor Hours</th>\n",
       "    </tr>\n",
       "  </thead>\n",
       "  <tbody>\n",
       "    <tr>\n",
       "      <th>0</th>\n",
       "      <td>2021</td>\n",
       "      <td>Active</td>\n",
       "      <td>Surface</td>\n",
       "      <td>0</td>\n",
       "      <td>4</td>\n",
       "      <td>8183</td>\n",
       "    </tr>\n",
       "    <tr>\n",
       "      <th>1</th>\n",
       "      <td>2021</td>\n",
       "      <td>Active</td>\n",
       "      <td>Surface</td>\n",
       "      <td>6487</td>\n",
       "      <td>2</td>\n",
       "      <td>820</td>\n",
       "    </tr>\n",
       "    <tr>\n",
       "      <th>2</th>\n",
       "      <td>2021</td>\n",
       "      <td>Active</td>\n",
       "      <td>Underground</td>\n",
       "      <td>0</td>\n",
       "      <td>53</td>\n",
       "      <td>116182</td>\n",
       "    </tr>\n",
       "    <tr>\n",
       "      <th>3</th>\n",
       "      <td>2021</td>\n",
       "      <td>Active</td>\n",
       "      <td>Surface</td>\n",
       "      <td>203190</td>\n",
       "      <td>42</td>\n",
       "      <td>117312</td>\n",
       "    </tr>\n",
       "    <tr>\n",
       "      <th>4</th>\n",
       "      <td>2021</td>\n",
       "      <td>Active</td>\n",
       "      <td>Underground</td>\n",
       "      <td>2020277</td>\n",
       "      <td>461</td>\n",
       "      <td>1100028</td>\n",
       "    </tr>\n",
       "    <tr>\n",
       "      <th>5</th>\n",
       "      <td>2021</td>\n",
       "      <td>Active</td>\n",
       "      <td>Underground</td>\n",
       "      <td>4793699</td>\n",
       "      <td>514</td>\n",
       "      <td>1502426</td>\n",
       "    </tr>\n",
       "    <tr>\n",
       "      <th>6</th>\n",
       "      <td>2021</td>\n",
       "      <td>Active</td>\n",
       "      <td>Surface</td>\n",
       "      <td>0</td>\n",
       "      <td>10</td>\n",
       "      <td>25789</td>\n",
       "    </tr>\n",
       "    <tr>\n",
       "      <th>7</th>\n",
       "      <td>2021</td>\n",
       "      <td>Active</td>\n",
       "      <td>Surface</td>\n",
       "      <td>130</td>\n",
       "      <td>3</td>\n",
       "      <td>2757</td>\n",
       "    </tr>\n",
       "    <tr>\n",
       "      <th>8</th>\n",
       "      <td>2021</td>\n",
       "      <td>Active</td>\n",
       "      <td>Underground</td>\n",
       "      <td>96907</td>\n",
       "      <td>27</td>\n",
       "      <td>53479</td>\n",
       "    </tr>\n",
       "    <tr>\n",
       "      <th>9</th>\n",
       "      <td>2021</td>\n",
       "      <td>Active</td>\n",
       "      <td>Surface</td>\n",
       "      <td>156423</td>\n",
       "      <td>50</td>\n",
       "      <td>123270</td>\n",
       "    </tr>\n",
       "  </tbody>\n",
       "</table>\n",
       "</div>"
      ],
      "text/plain": [
       "   Year Mine Status    Mine Type  Production (short tons)  Average Employees  \\\n",
       "0  2021      Active      Surface                        0                  4   \n",
       "1  2021      Active      Surface                     6487                  2   \n",
       "2  2021      Active  Underground                        0                 53   \n",
       "3  2021      Active      Surface                   203190                 42   \n",
       "4  2021      Active  Underground                  2020277                461   \n",
       "5  2021      Active  Underground                  4793699                514   \n",
       "6  2021      Active      Surface                        0                 10   \n",
       "7  2021      Active      Surface                      130                  3   \n",
       "8  2021      Active  Underground                    96907                 27   \n",
       "9  2021      Active      Surface                   156423                 50   \n",
       "\n",
       "   Labor Hours  \n",
       "0         8183  \n",
       "1          820  \n",
       "2       116182  \n",
       "3       117312  \n",
       "4      1100028  \n",
       "5      1502426  \n",
       "6        25789  \n",
       "7         2757  \n",
       "8        53479  \n",
       "9       123270  "
      ]
     },
     "execution_count": 27,
     "metadata": {},
     "output_type": "execute_result"
    }
   ],
   "source": [
    "data_coal = data_coal.drop(['Mine Name'], axis=1)\n",
    "data_coal.head(10)"
   ]
  },
  {
   "cell_type": "code",
   "execution_count": 28,
   "id": "2806e94f",
   "metadata": {},
   "outputs": [
    {
     "data": {
      "text/html": [
       "<div>\n",
       "<style scoped>\n",
       "    .dataframe tbody tr th:only-of-type {\n",
       "        vertical-align: middle;\n",
       "    }\n",
       "\n",
       "    .dataframe tbody tr th {\n",
       "        vertical-align: top;\n",
       "    }\n",
       "\n",
       "    .dataframe thead th {\n",
       "        text-align: right;\n",
       "    }\n",
       "</style>\n",
       "<table border=\"1\" class=\"dataframe\">\n",
       "  <thead>\n",
       "    <tr style=\"text-align: right;\">\n",
       "      <th></th>\n",
       "      <th>Year</th>\n",
       "      <th>Production (short tons)</th>\n",
       "      <th>Average Employees</th>\n",
       "      <th>Labor Hours</th>\n",
       "    </tr>\n",
       "  </thead>\n",
       "  <tbody>\n",
       "    <tr>\n",
       "      <th>count</th>\n",
       "      <td>727.0</td>\n",
       "      <td>7.270000e+02</td>\n",
       "      <td>727.000000</td>\n",
       "      <td>7.270000e+02</td>\n",
       "    </tr>\n",
       "    <tr>\n",
       "      <th>mean</th>\n",
       "      <td>2021.0</td>\n",
       "      <td>7.942659e+05</td>\n",
       "      <td>54.357634</td>\n",
       "      <td>1.184080e+05</td>\n",
       "    </tr>\n",
       "    <tr>\n",
       "      <th>std</th>\n",
       "      <td>0.0</td>\n",
       "      <td>3.764503e+06</td>\n",
       "      <td>111.796592</td>\n",
       "      <td>2.480994e+05</td>\n",
       "    </tr>\n",
       "    <tr>\n",
       "      <th>min</th>\n",
       "      <td>2021.0</td>\n",
       "      <td>0.000000e+00</td>\n",
       "      <td>0.000000</td>\n",
       "      <td>2.000000e+00</td>\n",
       "    </tr>\n",
       "    <tr>\n",
       "      <th>25%</th>\n",
       "      <td>2021.0</td>\n",
       "      <td>0.000000e+00</td>\n",
       "      <td>5.000000</td>\n",
       "      <td>8.006000e+03</td>\n",
       "    </tr>\n",
       "    <tr>\n",
       "      <th>50%</th>\n",
       "      <td>2021.0</td>\n",
       "      <td>2.273400e+04</td>\n",
       "      <td>14.000000</td>\n",
       "      <td>2.809100e+04</td>\n",
       "    </tr>\n",
       "    <tr>\n",
       "      <th>75%</th>\n",
       "      <td>2021.0</td>\n",
       "      <td>1.868135e+05</td>\n",
       "      <td>42.000000</td>\n",
       "      <td>9.550400e+04</td>\n",
       "    </tr>\n",
       "    <tr>\n",
       "      <th>max</th>\n",
       "      <td>2021.0</td>\n",
       "      <td>6.279900e+07</td>\n",
       "      <td>997.000000</td>\n",
       "      <td>2.075068e+06</td>\n",
       "    </tr>\n",
       "  </tbody>\n",
       "</table>\n",
       "</div>"
      ],
      "text/plain": [
       "         Year  Production (short tons)  Average Employees   Labor Hours\n",
       "count   727.0             7.270000e+02         727.000000  7.270000e+02\n",
       "mean   2021.0             7.942659e+05          54.357634  1.184080e+05\n",
       "std       0.0             3.764503e+06         111.796592  2.480994e+05\n",
       "min    2021.0             0.000000e+00           0.000000  2.000000e+00\n",
       "25%    2021.0             0.000000e+00           5.000000  8.006000e+03\n",
       "50%    2021.0             2.273400e+04          14.000000  2.809100e+04\n",
       "75%    2021.0             1.868135e+05          42.000000  9.550400e+04\n",
       "max    2021.0             6.279900e+07         997.000000  2.075068e+06"
      ]
     },
     "execution_count": 28,
     "metadata": {},
     "output_type": "execute_result"
    }
   ],
   "source": [
    "data_coal.describe()"
   ]
  },
  {
   "cell_type": "code",
   "execution_count": 29,
   "id": "09f3cd9a",
   "metadata": {},
   "outputs": [
    {
     "data": {
      "text/plain": [
       "Index(['Year', 'Mine Status', 'Mine Type', 'Production (short tons)',\n",
       "       'Average Employees', 'Labor Hours'],\n",
       "      dtype='object')"
      ]
     },
     "execution_count": 29,
     "metadata": {},
     "output_type": "execute_result"
    }
   ],
   "source": [
    "data_coal.columns"
   ]
  },
  {
   "cell_type": "code",
   "execution_count": 30,
   "id": "802985cc",
   "metadata": {},
   "outputs": [
    {
     "data": {
      "text/plain": [
       "(727, 6)"
      ]
     },
     "execution_count": 30,
     "metadata": {},
     "output_type": "execute_result"
    }
   ],
   "source": [
    "data_coal.shape"
   ]
  },
  {
   "cell_type": "markdown",
   "id": "a905163c",
   "metadata": {},
   "source": [
    "## Normalising Data"
   ]
  },
  {
   "cell_type": "code",
   "execution_count": 31,
   "id": "76ced6ff",
   "metadata": {},
   "outputs": [],
   "source": [
    "upper_lim1 =  data_coal['Production (short tons)'].mean() +  data_coal['Production (short tons)'].std() * 3\n",
    "lower_lim1 =  data_coal['Production (short tons)'].mean() -  data_coal['Production (short tons)'].std() * 3\n",
    "upper_lim2 =  data_coal['Labor Hours'].mean() + data_coal['Labor Hours'].std() * 3\n",
    "lower_lim2 =  data_coal['Labor Hours'].mean() - data_coal['Labor Hours'].std() * 3\n",
    "upper_lim3 =  data_coal['Average Employees'].mean() + data_coal['Average Employees'].std() * 3\n",
    "lower_lim3 =  data_coal['Average Employees'].mean() - data_coal['Average Employees'].std() * 3"
   ]
  },
  {
   "cell_type": "code",
   "execution_count": 32,
   "id": "c7beb7c5",
   "metadata": {},
   "outputs": [
    {
     "data": {
      "text/html": [
       "<div>\n",
       "<style scoped>\n",
       "    .dataframe tbody tr th:only-of-type {\n",
       "        vertical-align: middle;\n",
       "    }\n",
       "\n",
       "    .dataframe tbody tr th {\n",
       "        vertical-align: top;\n",
       "    }\n",
       "\n",
       "    .dataframe thead th {\n",
       "        text-align: right;\n",
       "    }\n",
       "</style>\n",
       "<table border=\"1\" class=\"dataframe\">\n",
       "  <thead>\n",
       "    <tr style=\"text-align: right;\">\n",
       "      <th></th>\n",
       "      <th>Year</th>\n",
       "      <th>Production (short tons)</th>\n",
       "      <th>Average Employees</th>\n",
       "      <th>Labor Hours</th>\n",
       "    </tr>\n",
       "  </thead>\n",
       "  <tbody>\n",
       "    <tr>\n",
       "      <th>count</th>\n",
       "      <td>699.0</td>\n",
       "      <td>6.990000e+02</td>\n",
       "      <td>699.000000</td>\n",
       "      <td>699.000000</td>\n",
       "    </tr>\n",
       "    <tr>\n",
       "      <th>mean</th>\n",
       "      <td>2021.0</td>\n",
       "      <td>3.455343e+05</td>\n",
       "      <td>37.097282</td>\n",
       "      <td>80245.340486</td>\n",
       "    </tr>\n",
       "    <tr>\n",
       "      <th>std</th>\n",
       "      <td>0.0</td>\n",
       "      <td>1.096777e+06</td>\n",
       "      <td>61.342448</td>\n",
       "      <td>135864.528097</td>\n",
       "    </tr>\n",
       "    <tr>\n",
       "      <th>min</th>\n",
       "      <td>2021.0</td>\n",
       "      <td>0.000000e+00</td>\n",
       "      <td>0.000000</td>\n",
       "      <td>2.000000</td>\n",
       "    </tr>\n",
       "    <tr>\n",
       "      <th>25%</th>\n",
       "      <td>2021.0</td>\n",
       "      <td>0.000000e+00</td>\n",
       "      <td>5.000000</td>\n",
       "      <td>7440.500000</td>\n",
       "    </tr>\n",
       "    <tr>\n",
       "      <th>50%</th>\n",
       "      <td>2021.0</td>\n",
       "      <td>1.752200e+04</td>\n",
       "      <td>13.000000</td>\n",
       "      <td>25560.000000</td>\n",
       "    </tr>\n",
       "    <tr>\n",
       "      <th>75%</th>\n",
       "      <td>2021.0</td>\n",
       "      <td>1.524525e+05</td>\n",
       "      <td>34.000000</td>\n",
       "      <td>77329.500000</td>\n",
       "    </tr>\n",
       "    <tr>\n",
       "      <th>max</th>\n",
       "      <td>2021.0</td>\n",
       "      <td>1.160174e+07</td>\n",
       "      <td>371.000000</td>\n",
       "      <td>787575.000000</td>\n",
       "    </tr>\n",
       "  </tbody>\n",
       "</table>\n",
       "</div>"
      ],
      "text/plain": [
       "         Year  Production (short tons)  Average Employees    Labor Hours\n",
       "count   699.0             6.990000e+02         699.000000     699.000000\n",
       "mean   2021.0             3.455343e+05          37.097282   80245.340486\n",
       "std       0.0             1.096777e+06          61.342448  135864.528097\n",
       "min    2021.0             0.000000e+00           0.000000       2.000000\n",
       "25%    2021.0             0.000000e+00           5.000000    7440.500000\n",
       "50%    2021.0             1.752200e+04          13.000000   25560.000000\n",
       "75%    2021.0             1.524525e+05          34.000000   77329.500000\n",
       "max    2021.0             1.160174e+07         371.000000  787575.000000"
      ]
     },
     "execution_count": 32,
     "metadata": {},
     "output_type": "execute_result"
    }
   ],
   "source": [
    "\n",
    "data_coal =   data_coal[((data_coal['Production (short tons)']< upper_lim1) & (data_coal['Production (short tons)'] > lower_lim1) & \n",
    "                        (data_coal['Labor Hours']< upper_lim2) & (data_coal['Labor Hours'] > lower_lim2) &\n",
    "                        (data_coal['Average Employees']< upper_lim3) & (data_coal['Average Employees'] > lower_lim3))]\n",
    "data_coal = data_coal.reset_index(drop=True)\n",
    "data_coal.describe()"
   ]
  },
  {
   "cell_type": "code",
   "execution_count": 33,
   "id": "47d3992f",
   "metadata": {},
   "outputs": [
    {
     "data": {
      "text/plain": [
       "Year                        int64\n",
       "Mine Status                object\n",
       "Mine Type                  object\n",
       "Production (short tons)     int64\n",
       "Average Employees           int64\n",
       "Labor Hours                 int64\n",
       "dtype: object"
      ]
     },
     "execution_count": 33,
     "metadata": {},
     "output_type": "execute_result"
    }
   ],
   "source": [
    "data_coal.dtypes"
   ]
  },
  {
   "cell_type": "markdown",
   "id": "f2f8c35d",
   "metadata": {},
   "source": [
    "## Feature Engineering"
   ]
  },
  {
   "cell_type": "code",
   "execution_count": 34,
   "id": "2d9e7856",
   "metadata": {
    "scrolled": true
   },
   "outputs": [],
   "source": [
    "data_coal[\"F\"] = data_coal[\"Labor Hours\"] * data_coal[\"Average Employees\"]"
   ]
  },
  {
   "cell_type": "code",
   "execution_count": 35,
   "id": "c556ce85",
   "metadata": {},
   "outputs": [],
   "source": [
    "from sklearn.preprocessing import MinMaxScaler, StandardScaler\n",
    "# data = data_coal.copy(deep = True)\n",
    "# min_max_scaler = MinMaxScaler()\n",
    "scaler = StandardScaler()\n",
    "# data.iloc[:, [4, 5, 6]] = min_max_scaler.fit_transform(data.iloc[:, [4, 5, 6]])\n",
    "# data.head()\n",
    "x = data_coal.iloc[:, 3:]\n",
    "x = scaler.fit_transform(x)"
   ]
  },
  {
   "cell_type": "code",
   "execution_count": 36,
   "id": "dddcfa0d",
   "metadata": {},
   "outputs": [
    {
     "data": {
      "text/html": [
       "<div>\n",
       "<style scoped>\n",
       "    .dataframe tbody tr th:only-of-type {\n",
       "        vertical-align: middle;\n",
       "    }\n",
       "\n",
       "    .dataframe tbody tr th {\n",
       "        vertical-align: top;\n",
       "    }\n",
       "\n",
       "    .dataframe thead th {\n",
       "        text-align: right;\n",
       "    }\n",
       "</style>\n",
       "<table border=\"1\" class=\"dataframe\">\n",
       "  <thead>\n",
       "    <tr style=\"text-align: right;\">\n",
       "      <th></th>\n",
       "      <th>Year</th>\n",
       "      <th>Mine Status</th>\n",
       "      <th>Mine Type</th>\n",
       "      <th>Production (short tons)</th>\n",
       "      <th>Average Employees</th>\n",
       "      <th>Labor Hours</th>\n",
       "      <th>F</th>\n",
       "    </tr>\n",
       "  </thead>\n",
       "  <tbody>\n",
       "    <tr>\n",
       "      <th>0</th>\n",
       "      <td>2021</td>\n",
       "      <td>Active</td>\n",
       "      <td>Surface</td>\n",
       "      <td>0</td>\n",
       "      <td>4</td>\n",
       "      <td>8183</td>\n",
       "      <td>32732</td>\n",
       "    </tr>\n",
       "    <tr>\n",
       "      <th>1</th>\n",
       "      <td>2021</td>\n",
       "      <td>Active</td>\n",
       "      <td>Surface</td>\n",
       "      <td>6487</td>\n",
       "      <td>2</td>\n",
       "      <td>820</td>\n",
       "      <td>1640</td>\n",
       "    </tr>\n",
       "    <tr>\n",
       "      <th>2</th>\n",
       "      <td>2021</td>\n",
       "      <td>Active</td>\n",
       "      <td>Underground</td>\n",
       "      <td>0</td>\n",
       "      <td>53</td>\n",
       "      <td>116182</td>\n",
       "      <td>6157646</td>\n",
       "    </tr>\n",
       "    <tr>\n",
       "      <th>3</th>\n",
       "      <td>2021</td>\n",
       "      <td>Active</td>\n",
       "      <td>Surface</td>\n",
       "      <td>203190</td>\n",
       "      <td>42</td>\n",
       "      <td>117312</td>\n",
       "      <td>4927104</td>\n",
       "    </tr>\n",
       "    <tr>\n",
       "      <th>4</th>\n",
       "      <td>2021</td>\n",
       "      <td>Active</td>\n",
       "      <td>Surface</td>\n",
       "      <td>0</td>\n",
       "      <td>10</td>\n",
       "      <td>25789</td>\n",
       "      <td>257890</td>\n",
       "    </tr>\n",
       "    <tr>\n",
       "      <th>...</th>\n",
       "      <td>...</td>\n",
       "      <td>...</td>\n",
       "      <td>...</td>\n",
       "      <td>...</td>\n",
       "      <td>...</td>\n",
       "      <td>...</td>\n",
       "      <td>...</td>\n",
       "    </tr>\n",
       "    <tr>\n",
       "      <th>694</th>\n",
       "      <td>2021</td>\n",
       "      <td>Active</td>\n",
       "      <td>Refuse</td>\n",
       "      <td>117182</td>\n",
       "      <td>5</td>\n",
       "      <td>12200</td>\n",
       "      <td>61000</td>\n",
       "    </tr>\n",
       "    <tr>\n",
       "      <th>695</th>\n",
       "      <td>2021</td>\n",
       "      <td>Active</td>\n",
       "      <td>Refuse</td>\n",
       "      <td>51972</td>\n",
       "      <td>53</td>\n",
       "      <td>744</td>\n",
       "      <td>39432</td>\n",
       "    </tr>\n",
       "    <tr>\n",
       "      <th>696</th>\n",
       "      <td>2021</td>\n",
       "      <td>Active</td>\n",
       "      <td>Refuse</td>\n",
       "      <td>161088</td>\n",
       "      <td>9</td>\n",
       "      <td>16314</td>\n",
       "      <td>146826</td>\n",
       "    </tr>\n",
       "    <tr>\n",
       "      <th>697</th>\n",
       "      <td>2021</td>\n",
       "      <td>Active</td>\n",
       "      <td>Refuse</td>\n",
       "      <td>38883</td>\n",
       "      <td>8</td>\n",
       "      <td>13951</td>\n",
       "      <td>111608</td>\n",
       "    </tr>\n",
       "    <tr>\n",
       "      <th>698</th>\n",
       "      <td>2021</td>\n",
       "      <td>Active, men working, not producing</td>\n",
       "      <td>Refuse</td>\n",
       "      <td>233752</td>\n",
       "      <td>10</td>\n",
       "      <td>21760</td>\n",
       "      <td>217600</td>\n",
       "    </tr>\n",
       "  </tbody>\n",
       "</table>\n",
       "<p>699 rows × 7 columns</p>\n",
       "</div>"
      ],
      "text/plain": [
       "     Year                         Mine Status    Mine Type  \\\n",
       "0    2021                              Active      Surface   \n",
       "1    2021                              Active      Surface   \n",
       "2    2021                              Active  Underground   \n",
       "3    2021                              Active      Surface   \n",
       "4    2021                              Active      Surface   \n",
       "..    ...                                 ...          ...   \n",
       "694  2021                              Active       Refuse   \n",
       "695  2021                              Active       Refuse   \n",
       "696  2021                              Active       Refuse   \n",
       "697  2021                              Active       Refuse   \n",
       "698  2021  Active, men working, not producing       Refuse   \n",
       "\n",
       "     Production (short tons)  Average Employees  Labor Hours        F  \n",
       "0                          0                  4         8183    32732  \n",
       "1                       6487                  2          820     1640  \n",
       "2                          0                 53       116182  6157646  \n",
       "3                     203190                 42       117312  4927104  \n",
       "4                          0                 10        25789   257890  \n",
       "..                       ...                ...          ...      ...  \n",
       "694                   117182                  5        12200    61000  \n",
       "695                    51972                 53          744    39432  \n",
       "696                   161088                  9        16314   146826  \n",
       "697                    38883                  8        13951   111608  \n",
       "698                   233752                 10        21760   217600  \n",
       "\n",
       "[699 rows x 7 columns]"
      ]
     },
     "execution_count": 36,
     "metadata": {},
     "output_type": "execute_result"
    }
   ],
   "source": [
    "data_coal"
   ]
  },
  {
   "cell_type": "code",
   "execution_count": 37,
   "id": "88ac3233",
   "metadata": {},
   "outputs": [
    {
     "data": {
      "text/html": [
       "<div>\n",
       "<style scoped>\n",
       "    .dataframe tbody tr th:only-of-type {\n",
       "        vertical-align: middle;\n",
       "    }\n",
       "\n",
       "    .dataframe tbody tr th {\n",
       "        vertical-align: top;\n",
       "    }\n",
       "\n",
       "    .dataframe thead th {\n",
       "        text-align: right;\n",
       "    }\n",
       "</style>\n",
       "<table border=\"1\" class=\"dataframe\">\n",
       "  <thead>\n",
       "    <tr style=\"text-align: right;\">\n",
       "      <th></th>\n",
       "      <th>Year</th>\n",
       "      <th>Mine Type</th>\n",
       "    </tr>\n",
       "  </thead>\n",
       "  <tbody>\n",
       "    <tr>\n",
       "      <th>0</th>\n",
       "      <td>2021</td>\n",
       "      <td>Surface</td>\n",
       "    </tr>\n",
       "    <tr>\n",
       "      <th>1</th>\n",
       "      <td>2021</td>\n",
       "      <td>Surface</td>\n",
       "    </tr>\n",
       "    <tr>\n",
       "      <th>2</th>\n",
       "      <td>2021</td>\n",
       "      <td>Underground</td>\n",
       "    </tr>\n",
       "    <tr>\n",
       "      <th>3</th>\n",
       "      <td>2021</td>\n",
       "      <td>Surface</td>\n",
       "    </tr>\n",
       "    <tr>\n",
       "      <th>4</th>\n",
       "      <td>2021</td>\n",
       "      <td>Surface</td>\n",
       "    </tr>\n",
       "    <tr>\n",
       "      <th>...</th>\n",
       "      <td>...</td>\n",
       "      <td>...</td>\n",
       "    </tr>\n",
       "    <tr>\n",
       "      <th>694</th>\n",
       "      <td>2021</td>\n",
       "      <td>Refuse</td>\n",
       "    </tr>\n",
       "    <tr>\n",
       "      <th>695</th>\n",
       "      <td>2021</td>\n",
       "      <td>Refuse</td>\n",
       "    </tr>\n",
       "    <tr>\n",
       "      <th>696</th>\n",
       "      <td>2021</td>\n",
       "      <td>Refuse</td>\n",
       "    </tr>\n",
       "    <tr>\n",
       "      <th>697</th>\n",
       "      <td>2021</td>\n",
       "      <td>Refuse</td>\n",
       "    </tr>\n",
       "    <tr>\n",
       "      <th>698</th>\n",
       "      <td>2021</td>\n",
       "      <td>Refuse</td>\n",
       "    </tr>\n",
       "  </tbody>\n",
       "</table>\n",
       "<p>699 rows × 2 columns</p>\n",
       "</div>"
      ],
      "text/plain": [
       "     Year    Mine Type\n",
       "0    2021      Surface\n",
       "1    2021      Surface\n",
       "2    2021  Underground\n",
       "3    2021      Surface\n",
       "4    2021      Surface\n",
       "..    ...          ...\n",
       "694  2021       Refuse\n",
       "695  2021       Refuse\n",
       "696  2021       Refuse\n",
       "697  2021       Refuse\n",
       "698  2021       Refuse\n",
       "\n",
       "[699 rows x 2 columns]"
      ]
     },
     "execution_count": 37,
     "metadata": {},
     "output_type": "execute_result"
    }
   ],
   "source": [
    "df1 = data_coal[['Year', 'Mine Type']]\n",
    "df1"
   ]
  },
  {
   "cell_type": "code",
   "execution_count": 38,
   "id": "a6774b5d",
   "metadata": {},
   "outputs": [
    {
     "data": {
      "text/html": [
       "<div>\n",
       "<style scoped>\n",
       "    .dataframe tbody tr th:only-of-type {\n",
       "        vertical-align: middle;\n",
       "    }\n",
       "\n",
       "    .dataframe tbody tr th {\n",
       "        vertical-align: top;\n",
       "    }\n",
       "\n",
       "    .dataframe thead th {\n",
       "        text-align: right;\n",
       "    }\n",
       "</style>\n",
       "<table border=\"1\" class=\"dataframe\">\n",
       "  <thead>\n",
       "    <tr style=\"text-align: right;\">\n",
       "      <th></th>\n",
       "      <th>Year</th>\n",
       "      <th>Mine Type</th>\n",
       "      <th>Production (short tons)</th>\n",
       "      <th>Average Employees</th>\n",
       "      <th>Labor Hours</th>\n",
       "      <th>F</th>\n",
       "    </tr>\n",
       "  </thead>\n",
       "  <tbody>\n",
       "    <tr>\n",
       "      <th>0</th>\n",
       "      <td>2021</td>\n",
       "      <td>Surface</td>\n",
       "      <td>-0.315271</td>\n",
       "      <td>-0.539936</td>\n",
       "      <td>-0.530778</td>\n",
       "      <td>-0.313849</td>\n",
       "    </tr>\n",
       "    <tr>\n",
       "      <th>1</th>\n",
       "      <td>2021</td>\n",
       "      <td>Surface</td>\n",
       "      <td>-0.309352</td>\n",
       "      <td>-0.572563</td>\n",
       "      <td>-0.585011</td>\n",
       "      <td>-0.314722</td>\n",
       "    </tr>\n",
       "    <tr>\n",
       "      <th>2</th>\n",
       "      <td>2021</td>\n",
       "      <td>Underground</td>\n",
       "      <td>-0.315271</td>\n",
       "      <td>0.259431</td>\n",
       "      <td>0.264693</td>\n",
       "      <td>-0.141889</td>\n",
       "    </tr>\n",
       "    <tr>\n",
       "      <th>3</th>\n",
       "      <td>2021</td>\n",
       "      <td>Surface</td>\n",
       "      <td>-0.129877</td>\n",
       "      <td>0.079981</td>\n",
       "      <td>0.273016</td>\n",
       "      <td>-0.176437</td>\n",
       "    </tr>\n",
       "    <tr>\n",
       "      <th>4</th>\n",
       "      <td>2021</td>\n",
       "      <td>Surface</td>\n",
       "      <td>-0.315271</td>\n",
       "      <td>-0.442054</td>\n",
       "      <td>-0.401101</td>\n",
       "      <td>-0.307528</td>\n",
       "    </tr>\n",
       "    <tr>\n",
       "      <th>...</th>\n",
       "      <td>...</td>\n",
       "      <td>...</td>\n",
       "      <td>...</td>\n",
       "      <td>...</td>\n",
       "      <td>...</td>\n",
       "      <td>...</td>\n",
       "    </tr>\n",
       "    <tr>\n",
       "      <th>694</th>\n",
       "      <td>2021</td>\n",
       "      <td>Refuse</td>\n",
       "      <td>-0.208352</td>\n",
       "      <td>-0.523622</td>\n",
       "      <td>-0.501191</td>\n",
       "      <td>-0.313055</td>\n",
       "    </tr>\n",
       "    <tr>\n",
       "      <th>695</th>\n",
       "      <td>2021</td>\n",
       "      <td>Refuse</td>\n",
       "      <td>-0.267851</td>\n",
       "      <td>0.259431</td>\n",
       "      <td>-0.585571</td>\n",
       "      <td>-0.313661</td>\n",
       "    </tr>\n",
       "    <tr>\n",
       "      <th>696</th>\n",
       "      <td>2021</td>\n",
       "      <td>Refuse</td>\n",
       "      <td>-0.168292</td>\n",
       "      <td>-0.458368</td>\n",
       "      <td>-0.470889</td>\n",
       "      <td>-0.310646</td>\n",
       "    </tr>\n",
       "    <tr>\n",
       "      <th>697</th>\n",
       "      <td>2021</td>\n",
       "      <td>Refuse</td>\n",
       "      <td>-0.279793</td>\n",
       "      <td>-0.474681</td>\n",
       "      <td>-0.488294</td>\n",
       "      <td>-0.311635</td>\n",
       "    </tr>\n",
       "    <tr>\n",
       "      <th>698</th>\n",
       "      <td>2021</td>\n",
       "      <td>Refuse</td>\n",
       "      <td>-0.101992</td>\n",
       "      <td>-0.442054</td>\n",
       "      <td>-0.430776</td>\n",
       "      <td>-0.308659</td>\n",
       "    </tr>\n",
       "  </tbody>\n",
       "</table>\n",
       "<p>699 rows × 6 columns</p>\n",
       "</div>"
      ],
      "text/plain": [
       "     Year    Mine Type  Production (short tons)  Average Employees  \\\n",
       "0    2021      Surface                -0.315271          -0.539936   \n",
       "1    2021      Surface                -0.309352          -0.572563   \n",
       "2    2021  Underground                -0.315271           0.259431   \n",
       "3    2021      Surface                -0.129877           0.079981   \n",
       "4    2021      Surface                -0.315271          -0.442054   \n",
       "..    ...          ...                      ...                ...   \n",
       "694  2021       Refuse                -0.208352          -0.523622   \n",
       "695  2021       Refuse                -0.267851           0.259431   \n",
       "696  2021       Refuse                -0.168292          -0.458368   \n",
       "697  2021       Refuse                -0.279793          -0.474681   \n",
       "698  2021       Refuse                -0.101992          -0.442054   \n",
       "\n",
       "     Labor Hours         F  \n",
       "0      -0.530778 -0.313849  \n",
       "1      -0.585011 -0.314722  \n",
       "2       0.264693 -0.141889  \n",
       "3       0.273016 -0.176437  \n",
       "4      -0.401101 -0.307528  \n",
       "..           ...       ...  \n",
       "694    -0.501191 -0.313055  \n",
       "695    -0.585571 -0.313661  \n",
       "696    -0.470889 -0.310646  \n",
       "697    -0.488294 -0.311635  \n",
       "698    -0.430776 -0.308659  \n",
       "\n",
       "[699 rows x 6 columns]"
      ]
     },
     "execution_count": 38,
     "metadata": {},
     "output_type": "execute_result"
    }
   ],
   "source": [
    "df2 = pd.DataFrame(x, columns=['Production (short tons)', 'Average Employees','Labor Hours', 'F'])\n",
    "scaled_df = pd.concat([df1, df2], axis=1)\n",
    "scaled_df"
   ]
  },
  {
   "cell_type": "code",
   "execution_count": 39,
   "id": "c1c90d52",
   "metadata": {},
   "outputs": [
    {
     "data": {
      "text/plain": [
       "Year                       0\n",
       "Mine Type                  0\n",
       "Production (short tons)    0\n",
       "Average Employees          0\n",
       "Labor Hours                0\n",
       "F                          0\n",
       "dtype: int64"
      ]
     },
     "execution_count": 39,
     "metadata": {},
     "output_type": "execute_result"
    }
   ],
   "source": [
    "scaled_df.isnull().sum()"
   ]
  },
  {
   "cell_type": "code",
   "execution_count": 40,
   "id": "df9f03be",
   "metadata": {},
   "outputs": [
    {
     "data": {
      "text/html": [
       "<div>\n",
       "<style scoped>\n",
       "    .dataframe tbody tr th:only-of-type {\n",
       "        vertical-align: middle;\n",
       "    }\n",
       "\n",
       "    .dataframe tbody tr th {\n",
       "        vertical-align: top;\n",
       "    }\n",
       "\n",
       "    .dataframe thead th {\n",
       "        text-align: right;\n",
       "    }\n",
       "</style>\n",
       "<table border=\"1\" class=\"dataframe\">\n",
       "  <thead>\n",
       "    <tr style=\"text-align: right;\">\n",
       "      <th></th>\n",
       "      <th>Year</th>\n",
       "      <th>Production (short tons)</th>\n",
       "      <th>Average Employees</th>\n",
       "      <th>Labor Hours</th>\n",
       "      <th>F</th>\n",
       "    </tr>\n",
       "  </thead>\n",
       "  <tbody>\n",
       "    <tr>\n",
       "      <th>count</th>\n",
       "      <td>699.0</td>\n",
       "      <td>6.990000e+02</td>\n",
       "      <td>6.990000e+02</td>\n",
       "      <td>6.990000e+02</td>\n",
       "      <td>6.990000e+02</td>\n",
       "    </tr>\n",
       "    <tr>\n",
       "      <th>mean</th>\n",
       "      <td>2021.0</td>\n",
       "      <td>1.524770e-17</td>\n",
       "      <td>1.270642e-17</td>\n",
       "      <td>2.541283e-18</td>\n",
       "      <td>-1.270642e-17</td>\n",
       "    </tr>\n",
       "    <tr>\n",
       "      <th>std</th>\n",
       "      <td>0.0</td>\n",
       "      <td>1.000716e+00</td>\n",
       "      <td>1.000716e+00</td>\n",
       "      <td>1.000716e+00</td>\n",
       "      <td>1.000716e+00</td>\n",
       "    </tr>\n",
       "    <tr>\n",
       "      <th>min</th>\n",
       "      <td>2021.0</td>\n",
       "      <td>-3.152707e-01</td>\n",
       "      <td>-6.051902e-01</td>\n",
       "      <td>-5.910358e-01</td>\n",
       "      <td>-3.147680e-01</td>\n",
       "    </tr>\n",
       "    <tr>\n",
       "      <th>25%</th>\n",
       "      <td>2021.0</td>\n",
       "      <td>-3.152707e-01</td>\n",
       "      <td>-5.236222e-01</td>\n",
       "      <td>-5.362472e-01</td>\n",
       "      <td>-3.136915e-01</td>\n",
       "    </tr>\n",
       "    <tr>\n",
       "      <th>50%</th>\n",
       "      <td>2021.0</td>\n",
       "      <td>-2.992834e-01</td>\n",
       "      <td>-3.931134e-01</td>\n",
       "      <td>-4.027872e-01</td>\n",
       "      <td>-3.054781e-01</td>\n",
       "    </tr>\n",
       "    <tr>\n",
       "      <th>75%</th>\n",
       "      <td>2021.0</td>\n",
       "      <td>-1.761708e-01</td>\n",
       "      <td>-5.052781e-02</td>\n",
       "      <td>-2.147675e-02</td>\n",
       "      <td>-2.425938e-01</td>\n",
       "    </tr>\n",
       "    <tr>\n",
       "      <th>max</th>\n",
       "      <td>2021.0</td>\n",
       "      <td>1.027033e+01</td>\n",
       "      <td>5.447155e+00</td>\n",
       "      <td>5.209867e+00</td>\n",
       "      <td>7.556934e+00</td>\n",
       "    </tr>\n",
       "  </tbody>\n",
       "</table>\n",
       "</div>"
      ],
      "text/plain": [
       "         Year  Production (short tons)  Average Employees   Labor Hours  \\\n",
       "count   699.0             6.990000e+02       6.990000e+02  6.990000e+02   \n",
       "mean   2021.0             1.524770e-17       1.270642e-17  2.541283e-18   \n",
       "std       0.0             1.000716e+00       1.000716e+00  1.000716e+00   \n",
       "min    2021.0            -3.152707e-01      -6.051902e-01 -5.910358e-01   \n",
       "25%    2021.0            -3.152707e-01      -5.236222e-01 -5.362472e-01   \n",
       "50%    2021.0            -2.992834e-01      -3.931134e-01 -4.027872e-01   \n",
       "75%    2021.0            -1.761708e-01      -5.052781e-02 -2.147675e-02   \n",
       "max    2021.0             1.027033e+01       5.447155e+00  5.209867e+00   \n",
       "\n",
       "                  F  \n",
       "count  6.990000e+02  \n",
       "mean  -1.270642e-17  \n",
       "std    1.000716e+00  \n",
       "min   -3.147680e-01  \n",
       "25%   -3.136915e-01  \n",
       "50%   -3.054781e-01  \n",
       "75%   -2.425938e-01  \n",
       "max    7.556934e+00  "
      ]
     },
     "execution_count": 40,
     "metadata": {},
     "output_type": "execute_result"
    }
   ],
   "source": [
    "scaled_df.describe()"
   ]
  },
  {
   "cell_type": "markdown",
   "id": "c86ffc4b",
   "metadata": {},
   "source": [
    "## LabelEncoding the Mine Type Column"
   ]
  },
  {
   "cell_type": "code",
   "execution_count": 41,
   "id": "3890c7e7",
   "metadata": {},
   "outputs": [
    {
     "data": {
      "text/html": [
       "<div>\n",
       "<style scoped>\n",
       "    .dataframe tbody tr th:only-of-type {\n",
       "        vertical-align: middle;\n",
       "    }\n",
       "\n",
       "    .dataframe tbody tr th {\n",
       "        vertical-align: top;\n",
       "    }\n",
       "\n",
       "    .dataframe thead th {\n",
       "        text-align: right;\n",
       "    }\n",
       "</style>\n",
       "<table border=\"1\" class=\"dataframe\">\n",
       "  <thead>\n",
       "    <tr style=\"text-align: right;\">\n",
       "      <th></th>\n",
       "      <th>Year</th>\n",
       "      <th>Mine Type</th>\n",
       "      <th>Production (short tons)</th>\n",
       "      <th>Average Employees</th>\n",
       "      <th>Labor Hours</th>\n",
       "      <th>F</th>\n",
       "    </tr>\n",
       "  </thead>\n",
       "  <tbody>\n",
       "    <tr>\n",
       "      <th>0</th>\n",
       "      <td>2021</td>\n",
       "      <td>1</td>\n",
       "      <td>-0.315271</td>\n",
       "      <td>-0.539936</td>\n",
       "      <td>-0.530778</td>\n",
       "      <td>-0.313849</td>\n",
       "    </tr>\n",
       "    <tr>\n",
       "      <th>1</th>\n",
       "      <td>2021</td>\n",
       "      <td>1</td>\n",
       "      <td>-0.309352</td>\n",
       "      <td>-0.572563</td>\n",
       "      <td>-0.585011</td>\n",
       "      <td>-0.314722</td>\n",
       "    </tr>\n",
       "    <tr>\n",
       "      <th>2</th>\n",
       "      <td>2021</td>\n",
       "      <td>2</td>\n",
       "      <td>-0.315271</td>\n",
       "      <td>0.259431</td>\n",
       "      <td>0.264693</td>\n",
       "      <td>-0.141889</td>\n",
       "    </tr>\n",
       "    <tr>\n",
       "      <th>3</th>\n",
       "      <td>2021</td>\n",
       "      <td>1</td>\n",
       "      <td>-0.129877</td>\n",
       "      <td>0.079981</td>\n",
       "      <td>0.273016</td>\n",
       "      <td>-0.176437</td>\n",
       "    </tr>\n",
       "    <tr>\n",
       "      <th>4</th>\n",
       "      <td>2021</td>\n",
       "      <td>1</td>\n",
       "      <td>-0.315271</td>\n",
       "      <td>-0.442054</td>\n",
       "      <td>-0.401101</td>\n",
       "      <td>-0.307528</td>\n",
       "    </tr>\n",
       "  </tbody>\n",
       "</table>\n",
       "</div>"
      ],
      "text/plain": [
       "   Year  Mine Type  Production (short tons)  Average Employees  Labor Hours  \\\n",
       "0  2021          1                -0.315271          -0.539936    -0.530778   \n",
       "1  2021          1                -0.309352          -0.572563    -0.585011   \n",
       "2  2021          2                -0.315271           0.259431     0.264693   \n",
       "3  2021          1                -0.129877           0.079981     0.273016   \n",
       "4  2021          1                -0.315271          -0.442054    -0.401101   \n",
       "\n",
       "          F  \n",
       "0 -0.313849  \n",
       "1 -0.314722  \n",
       "2 -0.141889  \n",
       "3 -0.176437  \n",
       "4 -0.307528  "
      ]
     },
     "execution_count": 41,
     "metadata": {},
     "output_type": "execute_result"
    }
   ],
   "source": [
    "from sklearn.preprocessing import LabelEncoder\n",
    "\n",
    "label_encoder = LabelEncoder()\n",
    "scaled_df['Mine Type'] = label_encoder.fit_transform(scaled_df['Mine Type'])\n",
    "scaled_df.head()"
   ]
  },
  {
   "cell_type": "code",
   "execution_count": 42,
   "id": "cf9d4bd0",
   "metadata": {},
   "outputs": [],
   "source": [
    "# poly = PolynomialFeatures(interaction_only = True)\n",
    "# xx = poly.fit_transform(X)\n",
    "# xx.shape, X.shape\n",
    "# feng = []\n",
    "# for i in range(scaled_df.shape[0]):\n",
    "#     feng.append(scaled_df['Average Employees'][i]*scaled_df['Labor Hours'][i])\n",
    "# scaled_df['feat_eng'] = feng"
   ]
  },
  {
   "cell_type": "markdown",
   "id": "baf256d5",
   "metadata": {},
   "source": [
    "# Plotting Heatmap to see the correlation between different parameters"
   ]
  },
  {
   "cell_type": "code",
   "execution_count": 43,
   "id": "cdd0a3fe",
   "metadata": {},
   "outputs": [
    {
     "data": {
      "image/png": "[encoded data removed]",
      "text/plain": [
       "<Figure size 640x480 with 2 Axes>"
      ]
     },
     "metadata": {},
     "output_type": "display_data"
    }
   ],
   "source": [
    "import seaborn as sns\n",
    "\n",
    "g = sns.heatmap(scaled_df.drop('Year', axis = 'columns').corr(), annot=True)\n",
    "\n",
    "fig = g.get_figure()\n",
    "fig.savefig(\"HeatMap.png\")\n",
    "plt.show(g)\n"
   ]
  },
  {
   "cell_type": "markdown",
   "id": "1a40f704",
   "metadata": {},
   "source": [
    "# PairPlot"
   ]
  },
  {
   "cell_type": "code",
   "execution_count": 44,
   "id": "cdf992bf",
   "metadata": {},
   "outputs": [
    {
     "data": {
      "image/png": "[encoded data removed]",
      "text/plain": [
       "<Figure size 1500x1500 with 42 Axes>"
      ]
     },
     "metadata": {},
     "output_type": "display_data"
    }
   ],
   "source": [
    "pp = sns.pairplot(scaled_df)\n",
    "pp.figure.savefig(\"Pair_Plot.png\")\n"
   ]
  },
  {
   "cell_type": "code",
   "execution_count": 45,
   "id": "4905094e",
   "metadata": {},
   "outputs": [],
   "source": [
    "input_params = ['Average Employees', 'Labor Hours', 'Mine Type', 'F']"
   ]
  },
  {
   "cell_type": "markdown",
   "id": "67615304",
   "metadata": {},
   "source": [
    "## Splitting Data into test and train data"
   ]
  },
  {
   "cell_type": "code",
   "execution_count": 46,
   "id": "3eb58e67",
   "metadata": {},
   "outputs": [],
   "source": [
    "X = scaled_df[input_params]\n",
    "# X = poly.fit_transform(X)\n",
    "y = scaled_df['Production (short tons)']\n",
    "X_train, X_test, y_train, y_test = train_test_split(X, y, test_size=0.2, random_state=45)\n"
   ]
  },
  {
   "cell_type": "markdown",
   "id": "b445a1b6",
   "metadata": {},
   "source": [
    "# Using Multivariate Linear Regression Model"
   ]
  },
  {
   "cell_type": "code",
   "execution_count": 47,
   "id": "4002bd3f",
   "metadata": {},
   "outputs": [
    {
     "data": {
      "text/html": [
       "<style>#sk-container-id-1 {color: black;background-color: white;}#sk-container-id-1 pre{padding: 0;}#sk-container-id-1 div.sk-toggleable {background-color: white;}#sk-container-id-1 label.sk-toggleable__label {cursor: pointer;display: block;width: 100%;margin-bottom: 0;padding: 0.3em;box-sizing: border-box;text-align: center;}#sk-container-id-1 label.sk-toggleable__label-arrow:before {content: \"▸\";float: left;margin-right: 0.25em;color: #696969;}#sk-container-id-1 label.sk-toggleable__label-arrow:hover:before {color: black;}#sk-container-id-1 div.sk-estimator:hover label.sk-toggleable__label-arrow:before {color: black;}#sk-container-id-1 div.sk-toggleable__content {max-height: 0;max-width: 0;overflow: hidden;text-align: left;background-color: #f0f8ff;}#sk-container-id-1 div.sk-toggleable__content pre {margin: 0.2em;color: black;border-radius: 0.25em;background-color: #f0f8ff;}#sk-container-id-1 input.sk-toggleable__control:checked~div.sk-toggleable__content {max-height: 200px;max-width: 100%;overflow: auto;}#sk-container-id-1 input.sk-toggleable__control:checked~label.sk-toggleable__label-arrow:before {content: \"▾\";}#sk-container-id-1 div.sk-estimator input.sk-toggleable__control:checked~label.sk-toggleable__label {background-color: #d4ebff;}#sk-container-id-1 div.sk-label input.sk-toggleable__control:checked~label.sk-toggleable__label {background-color: #d4ebff;}#sk-container-id-1 input.sk-hidden--visually {border: 0;clip: rect(1px 1px 1px 1px);clip: rect(1px, 1px, 1px, 1px);height: 1px;margin: -1px;overflow: hidden;padding: 0;position: absolute;width: 1px;}#sk-container-id-1 div.sk-estimator {font-family: monospace;background-color: #f0f8ff;border: 1px dotted black;border-radius: 0.25em;box-sizing: border-box;margin-bottom: 0.5em;}#sk-container-id-1 div.sk-estimator:hover {background-color: #d4ebff;}#sk-container-id-1 div.sk-parallel-item::after {content: \"\";width: 100%;border-bottom: 1px solid gray;flex-grow: 1;}#sk-container-id-1 div.sk-label:hover label.sk-toggleable__label {background-color: #d4ebff;}#sk-container-id-1 div.sk-serial::before {content: \"\";position: absolute;border-left: 1px solid gray;box-sizing: border-box;top: 0;bottom: 0;left: 50%;z-index: 0;}#sk-container-id-1 div.sk-serial {display: flex;flex-direction: column;align-items: center;background-color: white;padding-right: 0.2em;padding-left: 0.2em;position: relative;}#sk-container-id-1 div.sk-item {position: relative;z-index: 1;}#sk-container-id-1 div.sk-parallel {display: flex;align-items: stretch;justify-content: center;background-color: white;position: relative;}#sk-container-id-1 div.sk-item::before, #sk-container-id-1 div.sk-parallel-item::before {content: \"\";position: absolute;border-left: 1px solid gray;box-sizing: border-box;top: 0;bottom: 0;left: 50%;z-index: -1;}#sk-container-id-1 div.sk-parallel-item {display: flex;flex-direction: column;z-index: 1;position: relative;background-color: white;}#sk-container-id-1 div.sk-parallel-item:first-child::after {align-self: flex-end;width: 50%;}#sk-container-id-1 div.sk-parallel-item:last-child::after {align-self: flex-start;width: 50%;}#sk-container-id-1 div.sk-parallel-item:only-child::after {width: 0;}#sk-container-id-1 div.sk-dashed-wrapped {border: 1px dashed gray;margin: 0 0.4em 0.5em 0.4em;box-sizing: border-box;padding-bottom: 0.4em;background-color: white;}#sk-container-id-1 div.sk-label label {font-family: monospace;font-weight: bold;display: inline-block;line-height: 1.2em;}#sk-container-id-1 div.sk-label-container {text-align: center;}#sk-container-id-1 div.sk-container {/* jupyter's `normalize.less` sets `[hidden] { display: none; }` but bootstrap.min.css set `[hidden] { display: none !important; }` so we also need the `!important` here to be able to override the default hidden behavior on the sphinx rendered scikit-learn.org. See: https://github.com/scikit-learn/scikit-learn/issues/21755 */display: inline-block !important;position: relative;}#sk-container-id-1 div.sk-text-repr-fallback {display: none;}</style><div id=\"sk-container-id-1\" class=\"sk-top-container\"><div class=\"sk-text-repr-fallback\"><pre>LinearRegression()</pre><b>In a Jupyter environment, please rerun this cell to show the HTML representation or trust the notebook. <br />On GitHub, the HTML representation is unable to render, please try loading this page with nbviewer.org.</b></div><div class=\"sk-container\" hidden><div class=\"sk-item\"><div class=\"sk-estimator sk-toggleable\"><input class=\"sk-toggleable__control sk-hidden--visually\" id=\"sk-estimator-id-1\" type=\"checkbox\" checked><label for=\"sk-estimator-id-1\" class=\"sk-toggleable__label sk-toggleable__label-arrow\">LinearRegression</label><div class=\"sk-toggleable__content\"><pre>LinearRegression()</pre></div></div></div></div></div>"
      ],
      "text/plain": [
       "LinearRegression()"
      ]
     },
     "execution_count": 47,
     "metadata": {},
     "output_type": "execute_result"
    }
   ],
   "source": [
    "regressor = LinearRegression()\n",
    "regressor.fit(X_train, y_train)"
   ]
  },
  {
   "cell_type": "code",
   "execution_count": 48,
   "id": "ca185a65",
   "metadata": {},
   "outputs": [],
   "source": [
    "y_pred = regressor.predict(X_test)\n"
   ]
  },
  {
   "cell_type": "markdown",
   "id": "72b29066",
   "metadata": {},
   "source": [
    "# Matching predicted values and test values"
   ]
  },
  {
   "cell_type": "code",
   "execution_count": 49,
   "id": "77ed8a70",
   "metadata": {},
   "outputs": [
    {
     "data": {
      "text/plain": [
       "array([-0.3650601 ,  1.06955466,  0.78382697, -0.23468431, -0.33404354,\n",
       "        1.5933314 , -0.275988  , -0.29444325, -0.56218713, -0.12314664,\n",
       "       -0.24332423, -0.16713423, -0.29992171, -0.2979476 , -0.18991136,\n",
       "       -0.22058213, -0.29442413, -0.16137426, -0.25207848, -0.41732164,\n",
       "       -0.28328763,  1.22703497, -0.32636808,  0.21599836, -0.2042449 ,\n",
       "       -0.30520024, -0.15458452, -0.32129727, -0.35970895, -0.06456976,\n",
       "       -0.17812449,  0.03273459, -0.52733607, -0.25206392, -0.27112371,\n",
       "       -0.51630639,  2.86327848, -0.25561732, -0.312761  ,  2.16828843,\n",
       "       -0.25413989, -0.24863378, -0.3627638 , -0.0570321 , -0.50053702,\n",
       "       -0.13779685,  2.27615029,  0.68783358, -0.2828408 , -0.41497058,\n",
       "       -0.04748265, -0.18983128, -0.2612086 , -0.17956035, -0.2382782 ,\n",
       "       -0.34949977, -0.23372225, -0.32021515, -0.27851229, -0.53188055,\n",
       "       -0.43492437, -0.08434841,  0.00803436, -0.00792794, -0.32975675,\n",
       "        0.84613737,  0.04776415, -0.36506742, -0.30204551, -0.24289063,\n",
       "       -0.31024863, -0.29289058, -0.29754223, -0.38588998,  0.1746913 ,\n",
       "       -0.216449  , -0.29244345, -0.2042032 , -0.22874086, -0.32284661,\n",
       "       -0.26239391, -0.32078579, -0.18583306, -0.38351772, -0.50362968,\n",
       "       -0.43342545,  0.06831947,  0.03804583,  0.52212542,  2.56294466,\n",
       "       -0.24506671, -0.01461938, -0.23538763, -0.30218769, -0.50537544,\n",
       "       -0.2700104 , -0.28956438,  0.15293231, -0.30756851, -0.48250733,\n",
       "       -0.25699241, -0.29581273, -0.33417053, -0.21126089, -0.4082322 ,\n",
       "       -0.30730339, -0.0847287 , -0.45123122,  0.28715292, -0.3187409 ,\n",
       "       -0.24151511,  0.42126533,  0.77044013,  0.63056545, -0.25515484,\n",
       "        0.13358263, -0.26674103, -0.44666731, -0.20349025, -0.32574565,\n",
       "       -0.24063128, -0.54600053, -0.28836085, -0.32562911, -0.44835939,\n",
       "       -0.06083578, -0.17652492, -0.54644034,  0.11366361, -0.31829474,\n",
       "        1.12522043, -0.12750529, -0.18646461,  0.02907278, -0.28228798,\n",
       "       -0.17206181, -0.51700289, -0.34135687, -0.2962115 , -0.32366207])"
      ]
     },
     "execution_count": 49,
     "metadata": {},
     "output_type": "execute_result"
    }
   ],
   "source": [
    "y_pred"
   ]
  },
  {
   "cell_type": "code",
   "execution_count": 50,
   "id": "e9b09431",
   "metadata": {},
   "outputs": [
    {
     "data": {
      "text/plain": [
       "array([-0.31527071,  1.52594439, -0.20840319, -0.16760912, -0.31527071,\n",
       "        1.09095967, -0.31527071, -0.31527071, -0.31527071, -0.19892685,\n",
       "       -0.31527071, -0.12969463, -0.31317581, -0.31193583, -0.19970149,\n",
       "       -0.31527071, -0.31527071, -0.15632164, -0.2515294 , -0.26749666,\n",
       "       -0.31527071,  1.07566395, -0.31256358, -0.0766085 , -0.18047326,\n",
       "       -0.31527071, -0.10294262, -0.30314015, -0.31527071, -0.22441152,\n",
       "       -0.20530828, -0.21517788, -0.31527071, -0.24318902, -0.15808807,\n",
       "       -0.31527071,  2.67093942, -0.21219519, -0.29407714,  1.81997285,\n",
       "       -0.31527071, -0.30700149, -0.22271716, -0.27979328, -0.31249241,\n",
       "       -0.1615005 ,  2.60498641,  0.12740658, -0.25903128, -0.27729326,\n",
       "       -0.16829161, -0.22004287, -0.12337068,  0.02367959, -0.27497664,\n",
       "       -0.2874603 , -0.30549783, -0.17468581, -0.31527071, -0.31527071,\n",
       "       -0.31527071, -0.17231627, -0.07504827, -0.1292001 , -0.31527071,\n",
       "        1.50441231, -0.04146136, -0.31527071, -0.31527071, -0.31527071,\n",
       "       -0.30908271, -0.28092741, -0.27912813, -0.29583445,  0.17598446,\n",
       "       -0.31527071, -0.30556079, -0.31527071, -0.28258527, -0.30864202,\n",
       "       -0.30927797, -0.30145492, -0.19625895, -0.19793871, -0.31527071,\n",
       "       -0.30021495, -0.07808296, -0.31527071, -0.01964552,  0.79222954,\n",
       "       -0.22685131, -0.28079055, -0.30436553, -0.30722047, -0.31298602,\n",
       "       -0.2820068 , -0.19991409, -0.31527071, -0.30434819, -0.31527071,\n",
       "       -0.26915361, -0.23093072, -0.31527071, -0.30673963, -0.31527071,\n",
       "       -0.30809457, -0.28823494, -0.27439726, -0.31527071, -0.30898873,\n",
       "       -0.27605603, -0.31527071,  0.55350163,  0.50660715, -0.29928338,\n",
       "       -0.31527071, -0.20126993, -0.29160084, -0.13457422, -0.31527071,\n",
       "       -0.07301085, -0.31527071, -0.31480538, -0.20257013, -0.31527071,\n",
       "       -0.31527071, -0.31426705, -0.31527071,  0.22047382, -0.31162105,\n",
       "        0.29160934, -0.1052191 , -0.1126571 ,  0.3383852 , -0.22365604,\n",
       "       -0.22689237, -0.31527071, -0.31527071, -0.23335957, -0.31527071])"
      ]
     },
     "execution_count": 50,
     "metadata": {},
     "output_type": "execute_result"
    }
   ],
   "source": [
    "y_test.to_numpy()"
   ]
  },
  {
   "cell_type": "code",
   "execution_count": 51,
   "id": "6c668cc1",
   "metadata": {},
   "outputs": [
    {
     "data": {
      "text/plain": [
       "0.5683747346192272"
      ]
     },
     "execution_count": 51,
     "metadata": {},
     "output_type": "execute_result"
    }
   ],
   "source": [
    "regressor.score(X_train, y_train)"
   ]
  },
  {
   "cell_type": "markdown",
   "id": "f5ec5431",
   "metadata": {},
   "source": [
    "## Regressor Score of Test Data"
   ]
  },
  {
   "cell_type": "code",
   "execution_count": 52,
   "id": "1227b8e2",
   "metadata": {},
   "outputs": [
    {
     "data": {
      "text/plain": [
       "0.7027047122007122"
      ]
     },
     "execution_count": 52,
     "metadata": {},
     "output_type": "execute_result"
    }
   ],
   "source": [
    "regressor.score(X_test, y_test)"
   ]
  },
  {
   "cell_type": "markdown",
   "id": "1f4f3c11",
   "metadata": {},
   "source": [
    "## Predicting Test Data"
   ]
  },
  {
   "cell_type": "code",
   "execution_count": 53,
   "id": "5a3155f0",
   "metadata": {},
   "outputs": [
    {
     "data": {
      "image/png": "[encoded data removed]",
      "text/plain": [
       "<Figure size 640x480 with 1 Axes>"
      ]
     },
     "metadata": {},
     "output_type": "display_data"
    }
   ],
   "source": [
    "# Predicting Test Data\n",
    "\n",
    "plt.scatter(y_test,y_pred)\n",
    "plt.plot(y_test, y_test, color=\"red\")\n",
    "plt.xlabel('Y Test')\n",
    "plt.ylabel('Predicted Y')\n",
    "plt.savefig(\"Predicted Y_Y Test.png\")"
   ]
  },
  {
   "cell_type": "markdown",
   "id": "7a8435a1",
   "metadata": {},
   "source": [
    "# Predicting values based on certain input"
   ]
  },
  {
   "cell_type": "code",
   "execution_count": 54,
   "id": "6fd3b613",
   "metadata": {},
   "outputs": [
    {
     "data": {
      "text/plain": [
       "array([16609089.51820005])"
      ]
     },
     "execution_count": 54,
     "metadata": {},
     "output_type": "execute_result"
    }
   ],
   "source": [
    "regressor.predict([[5000, 20000, 0, 100000000]])"
   ]
  },
  {
   "cell_type": "markdown",
   "id": "eac7ec4a",
   "metadata": {},
   "source": [
    "# Evaluating Data"
   ]
  },
  {
   "cell_type": "code",
   "execution_count": 55,
   "id": "8231e29a",
   "metadata": {},
   "outputs": [
    {
     "data": {
      "text/html": [
       "<div>\n",
       "<style scoped>\n",
       "    .dataframe tbody tr th:only-of-type {\n",
       "        vertical-align: middle;\n",
       "    }\n",
       "\n",
       "    .dataframe tbody tr th {\n",
       "        vertical-align: top;\n",
       "    }\n",
       "\n",
       "    .dataframe thead th {\n",
       "        text-align: right;\n",
       "    }\n",
       "</style>\n",
       "<table border=\"1\" class=\"dataframe\">\n",
       "  <thead>\n",
       "    <tr style=\"text-align: right;\">\n",
       "      <th></th>\n",
       "      <th>Average Employees</th>\n",
       "      <th>Labor Hours</th>\n",
       "      <th>Mine Type</th>\n",
       "      <th>F</th>\n",
       "    </tr>\n",
       "  </thead>\n",
       "  <tbody>\n",
       "    <tr>\n",
       "      <th>476</th>\n",
       "      <td>-0.327859</td>\n",
       "      <td>-0.340600</td>\n",
       "      <td>2</td>\n",
       "      <td>-0.298539</td>\n",
       "    </tr>\n",
       "    <tr>\n",
       "      <th>240</th>\n",
       "      <td>1.189306</td>\n",
       "      <td>0.919998</td>\n",
       "      <td>1</td>\n",
       "      <td>0.318800</td>\n",
       "    </tr>\n",
       "    <tr>\n",
       "      <th>19</th>\n",
       "      <td>1.401382</td>\n",
       "      <td>1.514368</td>\n",
       "      <td>2</td>\n",
       "      <td>0.672342</td>\n",
       "    </tr>\n",
       "    <tr>\n",
       "      <th>146</th>\n",
       "      <td>-0.376800</td>\n",
       "      <td>-0.335216</td>\n",
       "      <td>1</td>\n",
       "      <td>-0.301116</td>\n",
       "    </tr>\n",
       "    <tr>\n",
       "      <th>51</th>\n",
       "      <td>-0.539936</td>\n",
       "      <td>-0.504476</td>\n",
       "      <td>1</td>\n",
       "      <td>-0.313448</td>\n",
       "    </tr>\n",
       "    <tr>\n",
       "      <th>...</th>\n",
       "      <td>...</td>\n",
       "      <td>...</td>\n",
       "      <td>...</td>\n",
       "      <td>...</td>\n",
       "    </tr>\n",
       "    <tr>\n",
       "      <th>248</th>\n",
       "      <td>-0.344173</td>\n",
       "      <td>-0.361025</td>\n",
       "      <td>1</td>\n",
       "      <td>-0.300739</td>\n",
       "    </tr>\n",
       "    <tr>\n",
       "      <th>172</th>\n",
       "      <td>-0.539936</td>\n",
       "      <td>-0.528937</td>\n",
       "      <td>2</td>\n",
       "      <td>-0.313821</td>\n",
       "    </tr>\n",
       "    <tr>\n",
       "      <th>655</th>\n",
       "      <td>-0.572563</td>\n",
       "      <td>-0.555387</td>\n",
       "      <td>1</td>\n",
       "      <td>-0.314496</td>\n",
       "    </tr>\n",
       "    <tr>\n",
       "      <th>417</th>\n",
       "      <td>-0.490995</td>\n",
       "      <td>-0.465188</td>\n",
       "      <td>1</td>\n",
       "      <td>-0.311410</td>\n",
       "    </tr>\n",
       "    <tr>\n",
       "      <th>102</th>\n",
       "      <td>-0.539936</td>\n",
       "      <td>-0.518898</td>\n",
       "      <td>1</td>\n",
       "      <td>-0.313668</td>\n",
       "    </tr>\n",
       "  </tbody>\n",
       "</table>\n",
       "<p>140 rows × 4 columns</p>\n",
       "</div>"
      ],
      "text/plain": [
       "     Average Employees  Labor Hours  Mine Type         F\n",
       "476          -0.327859    -0.340600          2 -0.298539\n",
       "240           1.189306     0.919998          1  0.318800\n",
       "19            1.401382     1.514368          2  0.672342\n",
       "146          -0.376800    -0.335216          1 -0.301116\n",
       "51           -0.539936    -0.504476          1 -0.313448\n",
       "..                 ...          ...        ...       ...\n",
       "248          -0.344173    -0.361025          1 -0.300739\n",
       "172          -0.539936    -0.528937          2 -0.313821\n",
       "655          -0.572563    -0.555387          1 -0.314496\n",
       "417          -0.490995    -0.465188          1 -0.311410\n",
       "102          -0.539936    -0.518898          1 -0.313668\n",
       "\n",
       "[140 rows x 4 columns]"
      ]
     },
     "execution_count": 55,
     "metadata": {},
     "output_type": "execute_result"
    }
   ],
   "source": [
    "X_test"
   ]
  },
  {
   "cell_type": "code",
   "execution_count": 56,
   "id": "722a5040",
   "metadata": {},
   "outputs": [
    {
     "data": {
      "text/html": [
       "<div>\n",
       "<style scoped>\n",
       "    .dataframe tbody tr th:only-of-type {\n",
       "        vertical-align: middle;\n",
       "    }\n",
       "\n",
       "    .dataframe tbody tr th {\n",
       "        vertical-align: top;\n",
       "    }\n",
       "\n",
       "    .dataframe thead th {\n",
       "        text-align: right;\n",
       "    }\n",
       "</style>\n",
       "<table border=\"1\" class=\"dataframe\">\n",
       "  <thead>\n",
       "    <tr style=\"text-align: right;\">\n",
       "      <th></th>\n",
       "      <th>Coeffecient</th>\n",
       "    </tr>\n",
       "  </thead>\n",
       "  <tbody>\n",
       "    <tr>\n",
       "      <th>Average Employees</th>\n",
       "      <td>1.345997</td>\n",
       "    </tr>\n",
       "    <tr>\n",
       "      <th>Labor Hours</th>\n",
       "      <td>-0.722382</td>\n",
       "    </tr>\n",
       "    <tr>\n",
       "      <th>Mine Type</th>\n",
       "      <td>-0.200568</td>\n",
       "    </tr>\n",
       "    <tr>\n",
       "      <th>F</th>\n",
       "      <td>0.166168</td>\n",
       "    </tr>\n",
       "  </tbody>\n",
       "</table>\n",
       "</div>"
      ],
      "text/plain": [
       "                   Coeffecient\n",
       "Average Employees     1.345997\n",
       "Labor Hours          -0.722382\n",
       "Mine Type            -0.200568\n",
       "F                     0.166168"
      ]
     },
     "execution_count": 56,
     "metadata": {},
     "output_type": "execute_result"
    }
   ],
   "source": [
    "coeffecients = pd.DataFrame(regressor.coef_,X.columns)\n",
    "coeffecients.columns = ['Coeffecient']\n",
    "coeffecients"
   ]
  },
  {
   "cell_type": "markdown",
   "id": "21546153",
   "metadata": {},
   "source": [
    "# Checking for errors"
   ]
  },
  {
   "cell_type": "code",
   "execution_count": 57,
   "id": "9cc1021d",
   "metadata": {},
   "outputs": [
    {
     "name": "stdout",
     "output_type": "stream",
     "text": [
      "MAE: 0.14689981573713531\n",
      "MSE: 0.06932409436404845\n",
      "RMSE: 0.2632946911049451\n"
     ]
    }
   ],
   "source": [
    "from sklearn import metrics\n",
    "\n",
    "print('MAE:', metrics.mean_absolute_error(y_test, y_pred))\n",
    "print('MSE:', metrics.mean_squared_error(y_test, y_pred))\n",
    "print('RMSE:', np.sqrt(metrics.mean_squared_error(y_test, y_pred)))"
   ]
  },
  {
   "cell_type": "markdown",
   "id": "25dd1aed",
   "metadata": {},
   "source": [
    "# Residual Plot"
   ]
  },
  {
   "cell_type": "code",
   "execution_count": 58,
   "id": "a16dccea",
   "metadata": {},
   "outputs": [
    {
     "data": {
      "image/png": "[encoded data removed]",
      "text/plain": [
       "<Figure size 640x480 with 1 Axes>"
      ]
     },
     "metadata": {},
     "output_type": "display_data"
    }
   ],
   "source": [
    "#Residuals\n",
    "\n",
    "rp = sns.distplot((y_test-y_pred),bins=50, color ='green');\n",
    "\n",
    "fig = rp.get_figure()\n",
    "fig.savefig(\"Residual Plot.png\")\n",
    "plt.show(rp)"
   ]
  }
 ],
 "metadata": {
  "kernelspec": {
   "display_name": "Python 3 (ipykernel)",
   "language": "python",
   "name": "python3"
  },
  "language_info": {
   "codemirror_mode": {
    "name": "ipython",
    "version": 3
   },
   "file_extension": ".py",
   "mimetype": "text/x-python",
   "name": "python",
   "nbconvert_exporter": "python",
   "pygments_lexer": "ipython3",
   "version": "3.10.8"
  }
 },
 "nbformat": 4,
 "nbformat_minor": 5
}
